{
 "cells": [
  {
   "cell_type": "markdown",
   "metadata": {},
   "source": [
    "# My Jupyter Notebook on IBM Watson Studio"
   ]
  },
  {
   "cell_type": "markdown",
   "metadata": {},
   "source": [
    "**Samir Mustafa**\n",
    "\n",
    "University student"
   ]
  },
  {
   "cell_type": "markdown",
   "metadata": {},
   "source": [
    "*I got interested in data science through my university education where I learned the basics of R, markdown, and matlab.*"
   ]
  },
  {
   "cell_type": "markdown",
   "metadata": {},
   "source": [
    "### The code in the next cell shows the result of an equation where 2 variables are added up, and then multiplied by a 3rd variable."
   ]
  },
  {
   "cell_type": "code",
   "execution_count": 3,
   "metadata": {},
   "outputs": [
    {
     "name": "stdout",
     "output_type": "stream",
     "text": [
      "35\n"
     ]
    }
   ],
   "source": [
    "var1 = 4\n",
    "var2 = 3\n",
    "var3 = 5\n",
    "equation = (var1+var2)*var3\n",
    "\n",
    "print(equation)"
   ]
  },
  {
   "cell_type": "markdown",
   "metadata": {},
   "source": [
    "### Table: \n",
    "|Row 1.1 | Row 1.2 | Row 1.3|\n",
    "|:---:|:---:|:---:|\n",
    "|Row 2.1 | Row 2.2 | Row 2.3|\n",
    "\n",
    "---\n",
    "### List:\n",
    "* Entry 1\n",
    "* Entry 2\n",
    "* Entry 3"
   ]
  }
 ],
 "metadata": {
  "kernelspec": {
   "display_name": "Python",
   "language": "python",
   "name": "conda-env-python-py"
  },
  "language_info": {
   "codemirror_mode": {
    "name": "ipython",
    "version": 3
   },
   "file_extension": ".py",
   "mimetype": "text/x-python",
   "name": "python",
   "nbconvert_exporter": "python",
   "pygments_lexer": "ipython3",
   "version": "3.7.12"
  }
 },
 "nbformat": 4,
 "nbformat_minor": 4
}
